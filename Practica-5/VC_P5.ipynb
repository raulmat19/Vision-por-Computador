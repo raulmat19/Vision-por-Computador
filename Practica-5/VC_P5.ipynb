{
 "cells": [
  {
   "cell_type": "markdown",
   "metadata": {},
   "source": [
    "#Paquetes necesarios"
   ]
  },
  {
   "cell_type": "code",
   "execution_count": 1,
   "metadata": {},
   "outputs": [],
   "source": [
    "import cv2\n",
    "import pytesseract\n",
    "import glob\n",
    "import os\n",
    "import matplotlib.pyplot as plt\n",
    "import shutil"
   ]
  },
  {
   "cell_type": "markdown",
   "metadata": {},
   "source": [
    "Primeras pruebas "
   ]
  },
  {
   "cell_type": "code",
   "execution_count": 10,
   "metadata": {},
   "outputs": [
    {
     "name": "stdout",
     "output_type": "stream",
     "text": [
      "['eng', 'equ', 'osd', 'spa', 'spa_old']\n",
      "Namespace(weights=['yolov7-license-plates.pt'], source='images\\\\', img_size=640, conf_thres=0.75, iou_thres=0.45, device='0', view_img=False, save_txt=True, save_conf=False, nosave=False, classes=None, agnostic_nms=False, augment=False, update=False, project='runs/detect', name='exp', exist_ok=False, no_trace=False)\n",
      "Fusing layers... \n",
      "RepConv.fuse_repvgg_block\n",
      "RepConv.fuse_repvgg_block\n",
      "RepConv.fuse_repvgg_block\n",
      "IDetect.fuse\n",
      " Convert model to Traced-model... \n",
      " traced_script_module saved! \n",
      " model is traced! \n",
      "\n",
      "1 License-Plate, Done. (11.5ms) Inference, (3.0ms) NMS\n",
      " The image with the result is saved in: runs\\detect\\exp\\2465DYD.jpg\n",
      "1 License-Plate, Done. (11.5ms) Inference, (1.0ms) NMS\n",
      " The image with the result is saved in: runs\\detect\\exp\\2522LNH.jpg\n",
      "1 License-Plate, Done. (13.5ms) Inference, (1.0ms) NMS\n",
      " The image with the result is saved in: runs\\detect\\exp\\4597HXL.jpg\n",
      "1 License-Plate, Done. (13.0ms) Inference, (1.0ms) NMS\n",
      " The image with the result is saved in: runs\\detect\\exp\\4841LFS.jpg\n",
      "1 License-Plate, Done. (12.5ms) Inference, (1.5ms) NMS\n",
      " The image with the result is saved in: runs\\detect\\exp\\8168GJG.jpg\n",
      "1 License-Plate, Done. (12.1ms) Inference, (1.0ms) NMS\n",
      " The image with the result is saved in: runs\\detect\\exp\\8712HJG.jpg\n",
      "1 License-Plate, Done. (11.5ms) Inference, (1.0ms) NMS\n",
      " The image with the result is saved in: runs\\detect\\exp\\8878LWB.jpg\n",
      "Done. (0.873s)\n"
     ]
    },
    {
     "name": "stderr",
     "output_type": "stream",
     "text": [
      "YOLOR  v0.1-115-g072f76c torch 1.13.0 CUDA:0 (NVIDIA GeForce RTX 3070 Ti, 8191.5MB)\n",
      "\n",
      "c:\\Users\\rauln\\anaconda3\\envs\\yolov7\\lib\\site-packages\\torch\\functional.py:504: UserWarning: torch.meshgrid: in an upcoming release, it will be required to pass the indexing argument. (Triggered internally at C:\\cb\\pytorch_1000000000000\\work\\aten\\src\\ATen\\native\\TensorShape.cpp:3191.)\n",
      "  return _VF.meshgrid(tensors, **kwargs)  # type: ignore[attr-defined]\n",
      "Model Summary: 314 layers, 36481772 parameters, 6194944 gradients, 103.2 GFLOPS\n"
     ]
    }
   ],
   "source": [
    "# Si la ruta de Tesseract no está en el PATH, ruta al ejecutable\n",
    "pytesseract.pytesseract.tesseract_cmd = r'C:/Program Files/Tesseract-OCR/tesseract'\n",
    "\n",
    "# Lenguajes disponibles\n",
    "print(pytesseract.get_languages(config=''))\n",
    "shutil.rmtree('runs/', ignore_errors=True)\n",
    "\n",
    "#Aplica reconocedor a imagen cargada\n",
    "#print(pytesseract.image_to_string(img_rgb))\n",
    "\n",
    "!python detect.py --weights yolov7-license-plates.pt --conf 0.75 --source images\\ --save-txt --device 0"
   ]
  }
 ],
 "metadata": {
  "kernelspec": {
   "display_name": "Python 3.9.13 ('yolov7')",
   "language": "python",
   "name": "python3"
  },
  "language_info": {
   "codemirror_mode": {
    "name": "ipython",
    "version": 3
   },
   "file_extension": ".py",
   "mimetype": "text/x-python",
   "name": "python",
   "nbconvert_exporter": "python",
   "pygments_lexer": "ipython3",
   "version": "3.9.13"
  },
  "orig_nbformat": 4,
  "vscode": {
   "interpreter": {
    "hash": "da1d4e97d6ccaa287d55c415dc6ec416118522f9987093630d0bcab7295db50d"
   }
  }
 },
 "nbformat": 4,
 "nbformat_minor": 2
}
