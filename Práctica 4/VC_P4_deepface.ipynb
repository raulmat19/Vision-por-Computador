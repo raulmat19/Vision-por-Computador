{
 "cells": [
  {
   "cell_type": "markdown",
   "metadata": {},
   "source": [
    "Detección de caras con webcam"
   ]
  },
  {
   "cell_type": "code",
   "execution_count": 1,
   "metadata": {},
   "outputs": [],
   "source": [
    "import cv2\n",
    "import time\n",
    "#from deepface import DeepFace\n",
    "from retinaface import RetinaFace\n"
   ]
  },
  {
   "cell_type": "markdown",
   "metadata": {},
   "source": [
    "Deepface\n",
    "\n",
    "Para ejecutar esta demo, en mi equipo he creado un nuevo *envorinment*\n",
    "\n",
    "conda create --name deepface python==3.9\n",
    "conda activate deepface\n",
    "pip install deepface\n",
    "\n",
    "Deepface crea directorios para almacenar los modelos que se va descargando en la primera lllamada."
   ]
  },
  {
   "cell_type": "code",
   "execution_count": 4,
   "metadata": {},
   "outputs": [
    {
     "name": "stdout",
     "output_type": "stream",
     "text": [
      "Camera 0\n"
     ]
    }
   ],
   "source": [
    "# Webcam connection\n",
    "cap = cv2.VideoCapture(0)\n",
    "# Check for other cameras\n",
    "if not cap.isOpened():\n",
    "    cap = cv2.VideoCapture(1)\n",
    "    if not cap.isOpened():\n",
    "        cap = cv2.VideoCapture(0)\n",
    "        if not cap.isOpened():\n",
    "            print('Camera error')\n",
    "            exit(0)\n",
    "        else:\n",
    "            print('Camera 0')\n",
    "    else:\n",
    "        print('Camera 1')\n",
    "else:\n",
    "    print('Camera 0')\n",
    "\n",
    "#Set camera resolution\n",
    "cap.set(3,640)\n",
    "cap.set(4,480)\n",
    "\n",
    "while True:\n",
    "    # Get frame\n",
    "    t = time.time()\n",
    "    ret, frame = cap.read()\n",
    "\n",
    "\n",
    "    # Deepface interface selects the first detected face\n",
    "    #face = DeepFace.detectFace(img_path = frame, \n",
    "    #    target_size = (224, 224), \n",
    "    #    detector_backend = backends[4]\n",
    "    #)\n",
    "\n",
    "    # Multiple face detection (https://sefiks.com/2021/04/27/deep-face-detection-with-retinaface-in-python/)\n",
    "    # A dict is returned\n",
    "    faces = RetinaFace.detect_faces(frame);\n",
    "    #If there are faces located\n",
    "    if len(faces) > 0:\n",
    "        #Draws bounding box and facial elements\n",
    "        for idx in range(1,len(faces)+1):\n",
    "            id = 'face_' + str(idx)\n",
    "            \n",
    "            # Face bounding box\n",
    "            if faces[id].get(\"facial_area\") is not None:\n",
    "                facial_area = faces[id][\"facial_area\"]\n",
    "                cv2.rectangle(frame, (facial_area[2], facial_area[3])\n",
    "                , (facial_area[0], facial_area[1]), (255, 255, 255), 1)\n",
    "\n",
    "                # Facial elements\n",
    "                landmarks = faces[id][\"landmarks\"]\n",
    "                cv2.circle(frame, (int(landmarks[\"left_eye\"][0]),int(landmarks[\"left_eye\"][1])), 3, (0, 0, 255), -1)\n",
    "                cv2.circle(frame, (int(landmarks[\"right_eye\"][0]),int(landmarks[\"right_eye\"][1])), 3, (0, 0, 255), -1)\n",
    "                cv2.circle(frame, (int(landmarks[\"nose\"][0]),int(landmarks[\"nose\"][1])), 3, (255, 0, 0), -1)\n",
    "                cv2.circle(frame, (int(landmarks[\"mouth_left\"][0]),int(landmarks[\"mouth_left\"][1])), 3, (0, 255, 0), -1)\n",
    "                cv2.circle(frame, (int(landmarks[\"mouth_right\"][0]),int(landmarks[\"mouth_right\"][1])), 3, (0, 255, 0), -1)\n",
    "        \n",
    "                # Debugging\n",
    "                #print(facial_area)\n",
    "                #print(landmarks)\n",
    "            \n",
    "            \n",
    "            \n",
    "    # Show resulting image\n",
    "    cv2.imshow('Cam', frame)\n",
    "    \n",
    "    # Esc to finish\n",
    "    tec = cv2.waitKey(40)\n",
    "    if tec & tec == 27:  # Esc\n",
    "        break\n",
    "    \n",
    "# Close windoews and release camera\n",
    "cap.release()\n",
    "cv2.destroyAllWindows()"
   ]
  }
 ],
 "metadata": {
  "kernelspec": {
   "display_name": "Python 3.9.0 ('deepface')",
   "language": "python",
   "name": "python3"
  },
  "language_info": {
   "codemirror_mode": {
    "name": "ipython",
    "version": 3
   },
   "file_extension": ".py",
   "mimetype": "text/x-python",
   "name": "python",
   "nbconvert_exporter": "python",
   "pygments_lexer": "ipython3",
   "version": "3.9.0"
  },
  "vscode": {
   "interpreter": {
    "hash": "2a45fc514aa0ff02d4189d20bd2042257a18249c899466a0c8f50819ba97afb5"
   }
  }
 },
 "nbformat": 4,
 "nbformat_minor": 2
}
