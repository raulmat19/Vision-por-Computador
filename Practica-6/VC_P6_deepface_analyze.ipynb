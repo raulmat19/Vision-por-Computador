{
 "cells": [
  {
   "cell_type": "code",
   "execution_count": 3,
   "id": "4442edb1",
   "metadata": {},
   "outputs": [],
   "source": [
    "import os\n",
    "import cv2\n",
    "from deepface import DeepFace\n",
    "\n"
   ]
  },
  {
   "cell_type": "markdown",
   "id": "c6fd4a50",
   "metadata": {},
   "source": [
    "# Process image folder"
   ]
  },
  {
   "cell_type": "code",
   "execution_count": 6,
   "id": "frank-length",
   "metadata": {},
   "outputs": [
    {
     "name": "stdout",
     "output_type": "stream",
     "text": [
      "./faces\n"
     ]
    },
    {
     "name": "stderr",
     "output_type": "stream",
     "text": [
      "Action: emotion: 100%|██████████| 4/4 [00:00<00:00,  9.85it/s]"
     ]
    },
    {
     "name": "stdout",
     "output_type": "stream",
     "text": [
      "happy.jpg\n",
      "{'x': 114, 'y': 92, 'w': 172, 'h': 172}\n",
      "33\n",
      "Man\n",
      "{'asian': 0.21307260136739023, 'indian': 0.18618885606162883, 'black': 0.013073081988075047, 'white': 67.57247850730887, 'middle eastern': 9.647384115897662, 'latino hispanic': 22.367806575763616}\n",
      "white\n",
      "{'angry': 3.280775096037303e-08, 'disgust': 3.090500572393258e-17, 'fear': 1.816571740274398e-14, 'happy': 99.99972581863403, 'sad': 1.0710080825676593e-10, 'surprise': 1.4111263373084437e-09, 'neutral': 0.0002743410732364282}\n",
      "happy\n"
     ]
    },
    {
     "name": "stderr",
     "output_type": "stream",
     "text": [
      "\n"
     ]
    }
   ],
   "source": [
    "folder = './faces'\n",
    "\n",
    "print(folder)\n",
    "\n",
    "for file_name in os.listdir(folder):\n",
    "    # Asume imágenes en formato png o jpg\n",
    "    if file_name.endswith('.png') or file_name.endswith('.jpg'):\n",
    "        # Procesa la imagen que asume hay cara, no fuerza la detección\n",
    "        obj = DeepFace.analyze(img_path = os.path.join(folder, file_name), enforce_detection=False, actions =['age', 'gender', 'race', 'emotion'])\n",
    "        print(file_name)\n",
    "        print(obj[\"region\"])\n",
    "        print(obj[\"age\"])      \n",
    "        print(obj[\"gender\"])      \n",
    "        print(obj[\"race\"])       \n",
    "        print(obj[\"dominant_race\"]) \n",
    "        print(obj[\"emotion\"])\n",
    "        print(obj[\"dominant_emotion\"])\n",
    "       \n",
    "        \n"
   ]
  },
  {
   "cell_type": "code",
   "execution_count": 7,
   "id": "e74b4537",
   "metadata": {},
   "outputs": [
    {
     "name": "stdout",
     "output_type": "stream",
     "text": [
      "\n",
      "deepface FER Metrics\n",
      "              precision    recall  f1-score   support\n",
      "\n",
      "       angry       0.49      0.38      0.43        77\n",
      "     disgust       0.00      0.00      0.00        23\n",
      "        fear       0.08      0.11      0.10        44\n",
      "       happy       0.46      0.44      0.45        63\n",
      "     neutral       0.29      0.39      0.33        82\n",
      "         sad       0.19      0.30      0.23        69\n",
      "    surprise       0.36      0.07      0.12        54\n",
      "\n",
      "    accuracy                           0.29       412\n",
      "   macro avg       0.27      0.24      0.24       412\n",
      "weighted avg       0.31      0.29      0.28       412\n",
      "\n",
      "Confussion matrix:\n",
      "[[29  0  4 15 18 11  0]\n",
      " [ 3  0  2  1  8  9  0]\n",
      " [ 6  0  5  5  9 14  5]\n",
      " [ 6  0  6 28  8 15  0]\n",
      " [ 3  0 14  4 32 28  1]\n",
      " [ 7  0  9  4 27 21  1]\n",
      " [ 5  0 21  4  8 12  4]]\n"
     ]
    }
   ],
   "source": [
    "#Descomentar para mostrar clase anotada y predicha\n",
    "#print(y)\n",
    "#print(y_pred)\n",
    "print(\"\\ndeepface FER Metrics\")\n",
    "precision_score(y, y_pred, average='weighted')\n",
    "recall_score(y, y_pred, average='weighted')\n",
    "print(classification_report(y, y_pred, target_names=classlabels))\n",
    "print(\"Confussion matrix:\")\n",
    "print(confusion_matrix(y, y_pred, labels=range(n_clases)))\n"
   ]
  },
  {
   "cell_type": "code",
   "execution_count": null,
   "id": "6b1843aa",
   "metadata": {},
   "outputs": [],
   "source": []
  }
 ],
 "metadata": {
  "kernelspec": {
   "display_name": "Python 3.8.12 ('deepface')",
   "language": "python",
   "name": "python3"
  },
  "language_info": {
   "codemirror_mode": {
    "name": "ipython",
    "version": 3
   },
   "file_extension": ".py",
   "mimetype": "text/x-python",
   "name": "python",
   "nbconvert_exporter": "python",
   "pygments_lexer": "ipython3",
   "version": "3.8.12"
  },
  "vscode": {
   "interpreter": {
    "hash": "6704e0096a869001f38a4afd9ea7e32b5434539f4e740f03beb82ffb76c1b4ad"
   }
  }
 },
 "nbformat": 4,
 "nbformat_minor": 5
}
